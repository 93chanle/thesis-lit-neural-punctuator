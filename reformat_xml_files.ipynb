{
 "cells": [
  {
   "cell_type": "markdown",
   "metadata": {},
   "source": [
    "# Reformat training XML:\n",
    "- add root node <mteval> (otherwise XML file cannot be parsed)\n",
    "- add element \"seg\" to all lines without elements (to inform sentences in main text)\n",
    "- add element \"doc\" to indicate each document"
   ]
  },
  {
   "cell_type": "code",
   "execution_count": 89,
   "metadata": {},
   "outputs": [],
   "source": [
    "# Read data in and split new lines\n",
    "data_path = \"data/ted-talks-en-de/\"\n",
    "\n",
    "with open(data_path + \"train.tags.en-de.en.xml\", \"r\", encoding=\"utf8\") as f:\n",
    "    data = f.read()\n",
    "    \n"
   ]
  },
  {
   "cell_type": "code",
   "execution_count": 90,
   "metadata": {},
   "outputs": [],
   "source": [
    "data = data.split('\\n')"
   ]
  },
  {
   "cell_type": "code",
   "execution_count": 91,
   "metadata": {},
   "outputs": [],
   "source": [
    "seg_id = 0\n",
    "\n",
    "for idx in range(len(data)):\n",
    "    # Reset seg_id for each documents\n",
    "    if data[idx].find('<description>')==0:\n",
    "        seg_id = 0\n",
    "    # Add seg_id where lines have no tag <>\n",
    "    if data[idx].find('<')==-1:\n",
    "        data[idx] = f'<seg id=\\'{seg_id}\\'>' + data[idx] + '</seg>'\n",
    "        seg_id += 1"
   ]
  },
  {
   "cell_type": "code",
   "execution_count": 92,
   "metadata": {},
   "outputs": [
    {
     "data": {
      "text/plain": [
       "'</doc>'"
      ]
     },
     "execution_count": 92,
     "metadata": {},
     "output_type": "execute_result"
    }
   ],
   "source": [
    "# Add tag <doc>\n",
    "\n",
    "doc_id = 0\n",
    "\n",
    "data.insert(len(data)-1, '</doc>')\n",
    "\n",
    "for idx in reversed(range(len(data)-2)):\n",
    "    if data[idx].find('<url>')==0:\n",
    "        data.insert(idx, f'<doc id=\\'{doc_id}\\'>')\n",
    "        data.insert(idx, '</doc>')\n",
    "        doc_id += 1\n",
    "\n",
    "data.pop(2)"
   ]
  },
  {
   "cell_type": "code",
   "execution_count": 93,
   "metadata": {},
   "outputs": [],
   "source": [
    "# Convert to DataFrame (for saving)\n",
    "import pandas as pd\n",
    "data = pd.DataFrame(data)"
   ]
  },
  {
   "cell_type": "code",
   "execution_count": 94,
   "metadata": {},
   "outputs": [],
   "source": [
    "data.to_csv(data_path + \"train-prototype-reformated.csv\", header=None, index=None, encoding='utf-8')"
   ]
  },
  {
   "cell_type": "code",
   "execution_count": 27,
   "metadata": {},
   "outputs": [],
   "source": [
    "# with open(data_path + \"train-prototype-reformated.xml\", \"w\", encoding='utf-8') as f:\n",
    "#     #for line in data:\n",
    "#         # f.write(line + '\\n')\n",
    "#     f.writelines(data)"
   ]
  },
  {
   "cell_type": "code",
   "execution_count": 97,
   "metadata": {},
   "outputs": [],
   "source": [
    "# Test importing file\n",
    "\n",
    "import xml.etree.ElementTree as ET\n",
    "data_path = \"data/ted-talks-en-de/\"\n",
    "\n",
    "file_path = data_path + \"train-reformated.xml\"\n",
    "\n",
    "xmlp = ET.XMLParser(encoding=\"utf-8\")\n",
    "tree = ET.parse(file_path, parser=xmlp)\n",
    "root = tree.getroot()"
   ]
  },
  {
   "cell_type": "code",
   "execution_count": 109,
   "metadata": {},
   "outputs": [
    {
     "data": {
      "text/plain": [
       "<_elementtree._element_iterator at 0x298bb372270>"
      ]
     },
     "execution_count": 109,
     "metadata": {},
     "output_type": "execute_result"
    }
   ],
   "source": [
    "root.iter(\"doc\")"
   ]
  },
  {
   "cell_type": "code",
   "execution_count": null,
   "metadata": {},
   "outputs": [],
   "source": []
  }
 ],
 "metadata": {
  "interpreter": {
   "hash": "ffba427618cbadb6740af337e16179b7137c1abb7f6fe8655e1365632aa4814b"
  },
  "kernelspec": {
   "display_name": "Python 3.9.7 ('thesis')",
   "language": "python",
   "name": "python3"
  },
  "language_info": {
   "codemirror_mode": {
    "name": "ipython",
    "version": 3
   },
   "file_extension": ".py",
   "mimetype": "text/x-python",
   "name": "python",
   "nbconvert_exporter": "python",
   "pygments_lexer": "ipython3",
   "version": "3.9.7"
  },
  "orig_nbformat": 4
 },
 "nbformat": 4,
 "nbformat_minor": 2
}
